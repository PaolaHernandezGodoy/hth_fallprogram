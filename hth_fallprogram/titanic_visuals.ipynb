{
 "cells": [
  {
   "cell_type": "code",
   "execution_count": 1,
   "id": "f9a861cd",
   "metadata": {},
   "outputs": [
    {
     "name": "stderr",
     "output_type": "stream",
     "text": [
      "'pip' is not recognized as an internal or external command,\n",
      "operable program or batch file.\n"
     ]
    }
   ],
   "source": [
    "!pip install seaborn"
   ]
  },
  {
   "cell_type": "code",
   "execution_count": 1,
   "id": "f013621d",
   "metadata": {},
   "outputs": [
    {
     "ename": "ModuleNotFoundError",
     "evalue": "No module named 'seaborn'",
     "output_type": "error",
     "traceback": [
      "\u001b[1;31m---------------------------------------------------------------------------\u001b[0m",
      "\u001b[1;31mModuleNotFoundError\u001b[0m                       Traceback (most recent call last)",
      "Cell \u001b[1;32mIn [1], line 2\u001b[0m\n\u001b[0;32m      1\u001b[0m \u001b[38;5;28;01mimport\u001b[39;00m \u001b[38;5;21;01mpandas\u001b[39;00m\n\u001b[1;32m----> 2\u001b[0m \u001b[38;5;28;01mimport\u001b[39;00m \u001b[38;5;21;01mseaborn\u001b[39;00m\n\u001b[0;32m      3\u001b[0m \u001b[38;5;28;01mimport\u001b[39;00m \u001b[38;5;21;01mmatplotlib\u001b[39;00m\u001b[38;5;21;01m.\u001b[39;00m\u001b[38;5;21;01mpyplot\u001b[39;00m \u001b[38;5;28;01mas\u001b[39;00m \u001b[38;5;21;01mplt\u001b[39;00m\n\u001b[0;32m      5\u001b[0m \u001b[38;5;124;03m''' \u001b[39;00m\n\u001b[0;32m      6\u001b[0m \u001b[38;5;124;03mThe best way to complete this activity is to copy the code in this file into a jupyter notebook file you create. This will also you to see your visualizations easier. Once you have finished creating your visuals copy your code back into this file and submit it to Replit. Don't forget to also upload your new code to Github! \u001b[39;00m\n\u001b[0;32m      7\u001b[0m \u001b[38;5;124;03m'''\u001b[39;00m\n",
      "\u001b[1;31mModuleNotFoundError\u001b[0m: No module named 'seaborn'"
     ]
    }
   ],
   "source": [
    "import pandas\n",
    "import seaborn\n",
    "import matplotlib.pyplot as plt\n",
    "\n",
    "''' \n",
    "The best way to complete this activity is to copy the code in this file into a jupyter notebook file you create. This will also you to see your visualizations easier. Once you have finished creating your visuals copy your code back into this file and submit it to Replit. Don't forget to also upload your new code to Github! \n",
    "'''\n",
    "\n",
    "#Call in out titanic csv\n",
    "titanic_data = pandas.read_csv(\"titanic.csv\")\n",
    "titanic_data.head()"
   ]
  },
  {
   "cell_type": "code",
   "execution_count": 2,
   "id": "b5b3462d",
   "metadata": {},
   "outputs": [
    {
     "ename": "SyntaxError",
     "evalue": "invalid syntax (2351886556.py, line 7)",
     "output_type": "error",
     "traceback": [
      "\u001b[1;36m  Cell \u001b[1;32mIn [2], line 7\u001b[1;36m\u001b[0m\n\u001b[1;33m    corr_heatmap =\u001b[0m\n\u001b[1;37m                   ^\u001b[0m\n\u001b[1;31mSyntaxError\u001b[0m\u001b[1;31m:\u001b[0m invalid syntax\n"
     ]
    }
   ],
   "source": [
    "# Step 1: Create a heatmap showing the correlation between the following features: survival, pclass, sex, age, and fare \n",
    "\n",
    "titanic_features = titanic_data[[\"Survived\", \"PassengerId\", \"Sex\", \"Age\",\"Fare\"]]\n",
    "\n",
    "\n",
    "\n",
    "corr_heatmap = \n",
    "\n",
    "# Step 2: Create a bar graph that illustrates how many passengers fell into each of these age ranges: 0 - 16, 17 - 25, 26 -40, 41 - 59, 60 or older\n",
    "age_group_chart = \n",
    "\n",
    "# Step 3: Create a line graph showing the average survival percentage of each of the previous age groups\n",
    "survival_age_pers = \n",
    "\n",
    "# Step 4: Create a pie chart that shows the percentage of survivors that were male and the percentage of survivors that were female\n",
    "survivors = \n",
    "\n",
    "# Step 5: Create a histogram that shows the distribution of passengers between the three embarking locations: C (Cherbourg), Q (Queenstown), S (Southampton)\n",
    "titanic_description = "
   ]
  },
  {
   "cell_type": "code",
   "execution_count": null,
   "id": "6ada30e7",
   "metadata": {},
   "outputs": [],
   "source": []
  }
 ],
 "metadata": {
  "kernelspec": {
   "display_name": "Python 3 (ipykernel)",
   "language": "python",
   "name": "python3"
  },
  "language_info": {
   "codemirror_mode": {
    "name": "ipython",
    "version": 3
   },
   "file_extension": ".py",
   "mimetype": "text/x-python",
   "name": "python",
   "nbconvert_exporter": "python",
   "pygments_lexer": "ipython3",
   "version": "3.10.7"
  }
 },
 "nbformat": 4,
 "nbformat_minor": 5
}
